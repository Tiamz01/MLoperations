{
 "cells": [
  {
   "cell_type": "code",
   "execution_count": 1,
   "id": "6ece67c8-48b5-4535-ae55-1cb58e2e063e",
   "metadata": {},
   "outputs": [],
   "source": [
    "import pandas as pd\n",
    "import seaborn as sns\n",
    "import matplotlib.pyplot as plt\n",
    "from sklearn.feature_extraction import DictVectorizer\n",
    "from sklearn.linear_model import LinearRegression\n",
    "from sklearn.linear_model import Lasso\n",
    "from sklearn.linear_model import Ridge\n",
    "\n",
    "from sklearn.metrics import mean_squared_error\n",
    "import pickle"
   ]
  },
  {
   "cell_type": "code",
   "execution_count": 2,
   "id": "b2ada361",
   "metadata": {},
   "outputs": [
    {
     "data": {
      "text/plain": [
       "<Experiment: artifact_location='/home/t.sukanmi/mlops_pratical/experiment_tracking/mlruns/1', creation_time=1715991690099, experiment_id='1', last_update_time=1715991690099, lifecycle_stage='active', name='nyc-taxi-experiment', tags={}>"
      ]
     },
     "execution_count": 2,
     "metadata": {},
     "output_type": "execute_result"
    }
   ],
   "source": [
    "import mlflow\n",
    "\n",
    "mlflow.set_tracking_uri('sqlite:///mlflow.db')\n",
    "\n",
    "\n",
    "mlflow.set_experiment('nyc-taxi-experiment')"
   ]
  },
  {
   "cell_type": "markdown",
   "id": "6bdab02a-5dff-4cf7-80d3-f843bdde2f8a",
   "metadata": {},
   "source": [
    "### Data preprocessing Feature Engineering"
   ]
  },
  {
   "cell_type": "code",
   "execution_count": 3,
   "id": "fe84244b-d037-4812-a3d7-31a695ef082b",
   "metadata": {},
   "outputs": [],
   "source": [
    "# read dataframe function that read data and performs data preprocessing \n",
    "def read_dataframe(filename):\n",
    "    df = pd.read_parquet(filename)\n",
    "    \n",
    "    df.tpep_dropoff_datetime = pd.to_datetime(df.tpep_dropoff_datetime)\n",
    "    df.tpep_pickup_datetime = pd.to_datetime(df.tpep_pickup_datetime)\n",
    "\n",
    "    df['duration'] = df.tpep_dropoff_datetime - df.tpep_pickup_datetime\n",
    "    df.duration = df.duration.apply(lambda td: td.total_seconds() / 60)\n",
    "\n",
    "    df = df[(df.duration >= 1) & (df.duration <= 60)]\n",
    "\n",
    "    \n",
    "    return df\n",
    "    \n",
    " "
   ]
  },
  {
   "cell_type": "code",
   "execution_count": 4,
   "id": "9e007dda-b2b4-455f-b4cd-c4b3b10cd2c4",
   "metadata": {},
   "outputs": [],
   "source": [
    "# Feeding the data to the function\n",
    "df_train = read_dataframe('./data/yellow_tripdata_2023-01.parquet')\n",
    "df_val = read_dataframe('./data/yellow_tripdata_2023-02.parquet')"
   ]
  },
  {
   "cell_type": "markdown",
   "id": "885e052b-dda8-4da5-a919-4f2794bbb2b8",
   "metadata": {},
   "source": [
    "### Vectorization of training data\n",
    "#### Splitting data to train and test, training the dictionary vectorizer, and tuning the data frame into a feature matrix"
   ]
  },
  {
   "cell_type": "code",
   "execution_count": 5,
   "id": "ccbd2a45-4dfc-49c6-a85f-eb26194700f4",
   "metadata": {},
   "outputs": [
    {
     "data": {
      "text/html": [
       "<div>\n",
       "<style scoped>\n",
       "    .dataframe tbody tr th:only-of-type {\n",
       "        vertical-align: middle;\n",
       "    }\n",
       "\n",
       "    .dataframe tbody tr th {\n",
       "        vertical-align: top;\n",
       "    }\n",
       "\n",
       "    .dataframe thead th {\n",
       "        text-align: right;\n",
       "    }\n",
       "</style>\n",
       "<table border=\"1\" class=\"dataframe\">\n",
       "  <thead>\n",
       "    <tr style=\"text-align: right;\">\n",
       "      <th></th>\n",
       "      <th>VendorID</th>\n",
       "      <th>tpep_pickup_datetime</th>\n",
       "      <th>tpep_dropoff_datetime</th>\n",
       "      <th>passenger_count</th>\n",
       "      <th>trip_distance</th>\n",
       "      <th>RatecodeID</th>\n",
       "      <th>store_and_fwd_flag</th>\n",
       "      <th>PULocationID</th>\n",
       "      <th>DOLocationID</th>\n",
       "      <th>payment_type</th>\n",
       "      <th>fare_amount</th>\n",
       "      <th>extra</th>\n",
       "      <th>mta_tax</th>\n",
       "      <th>tip_amount</th>\n",
       "      <th>tolls_amount</th>\n",
       "      <th>improvement_surcharge</th>\n",
       "      <th>total_amount</th>\n",
       "      <th>congestion_surcharge</th>\n",
       "      <th>airport_fee</th>\n",
       "      <th>duration</th>\n",
       "    </tr>\n",
       "  </thead>\n",
       "  <tbody>\n",
       "    <tr>\n",
       "      <th>0</th>\n",
       "      <td>2</td>\n",
       "      <td>2023-01-01 00:32:10</td>\n",
       "      <td>2023-01-01 00:40:36</td>\n",
       "      <td>1.0</td>\n",
       "      <td>0.97</td>\n",
       "      <td>1.0</td>\n",
       "      <td>N</td>\n",
       "      <td>161</td>\n",
       "      <td>141</td>\n",
       "      <td>2</td>\n",
       "      <td>9.30</td>\n",
       "      <td>1.00</td>\n",
       "      <td>0.5</td>\n",
       "      <td>0.00</td>\n",
       "      <td>0.0</td>\n",
       "      <td>1.0</td>\n",
       "      <td>14.30</td>\n",
       "      <td>2.5</td>\n",
       "      <td>0.00</td>\n",
       "      <td>8.433333</td>\n",
       "    </tr>\n",
       "    <tr>\n",
       "      <th>1</th>\n",
       "      <td>2</td>\n",
       "      <td>2023-01-01 00:55:08</td>\n",
       "      <td>2023-01-01 01:01:27</td>\n",
       "      <td>1.0</td>\n",
       "      <td>1.10</td>\n",
       "      <td>1.0</td>\n",
       "      <td>N</td>\n",
       "      <td>43</td>\n",
       "      <td>237</td>\n",
       "      <td>1</td>\n",
       "      <td>7.90</td>\n",
       "      <td>1.00</td>\n",
       "      <td>0.5</td>\n",
       "      <td>4.00</td>\n",
       "      <td>0.0</td>\n",
       "      <td>1.0</td>\n",
       "      <td>16.90</td>\n",
       "      <td>2.5</td>\n",
       "      <td>0.00</td>\n",
       "      <td>6.316667</td>\n",
       "    </tr>\n",
       "    <tr>\n",
       "      <th>2</th>\n",
       "      <td>2</td>\n",
       "      <td>2023-01-01 00:25:04</td>\n",
       "      <td>2023-01-01 00:37:49</td>\n",
       "      <td>1.0</td>\n",
       "      <td>2.51</td>\n",
       "      <td>1.0</td>\n",
       "      <td>N</td>\n",
       "      <td>48</td>\n",
       "      <td>238</td>\n",
       "      <td>1</td>\n",
       "      <td>14.90</td>\n",
       "      <td>1.00</td>\n",
       "      <td>0.5</td>\n",
       "      <td>15.00</td>\n",
       "      <td>0.0</td>\n",
       "      <td>1.0</td>\n",
       "      <td>34.90</td>\n",
       "      <td>2.5</td>\n",
       "      <td>0.00</td>\n",
       "      <td>12.750000</td>\n",
       "    </tr>\n",
       "    <tr>\n",
       "      <th>3</th>\n",
       "      <td>1</td>\n",
       "      <td>2023-01-01 00:03:48</td>\n",
       "      <td>2023-01-01 00:13:25</td>\n",
       "      <td>0.0</td>\n",
       "      <td>1.90</td>\n",
       "      <td>1.0</td>\n",
       "      <td>N</td>\n",
       "      <td>138</td>\n",
       "      <td>7</td>\n",
       "      <td>1</td>\n",
       "      <td>12.10</td>\n",
       "      <td>7.25</td>\n",
       "      <td>0.5</td>\n",
       "      <td>0.00</td>\n",
       "      <td>0.0</td>\n",
       "      <td>1.0</td>\n",
       "      <td>20.85</td>\n",
       "      <td>0.0</td>\n",
       "      <td>1.25</td>\n",
       "      <td>9.616667</td>\n",
       "    </tr>\n",
       "    <tr>\n",
       "      <th>4</th>\n",
       "      <td>2</td>\n",
       "      <td>2023-01-01 00:10:29</td>\n",
       "      <td>2023-01-01 00:21:19</td>\n",
       "      <td>1.0</td>\n",
       "      <td>1.43</td>\n",
       "      <td>1.0</td>\n",
       "      <td>N</td>\n",
       "      <td>107</td>\n",
       "      <td>79</td>\n",
       "      <td>1</td>\n",
       "      <td>11.40</td>\n",
       "      <td>1.00</td>\n",
       "      <td>0.5</td>\n",
       "      <td>3.28</td>\n",
       "      <td>0.0</td>\n",
       "      <td>1.0</td>\n",
       "      <td>19.68</td>\n",
       "      <td>2.5</td>\n",
       "      <td>0.00</td>\n",
       "      <td>10.833333</td>\n",
       "    </tr>\n",
       "    <tr>\n",
       "      <th>...</th>\n",
       "      <td>...</td>\n",
       "      <td>...</td>\n",
       "      <td>...</td>\n",
       "      <td>...</td>\n",
       "      <td>...</td>\n",
       "      <td>...</td>\n",
       "      <td>...</td>\n",
       "      <td>...</td>\n",
       "      <td>...</td>\n",
       "      <td>...</td>\n",
       "      <td>...</td>\n",
       "      <td>...</td>\n",
       "      <td>...</td>\n",
       "      <td>...</td>\n",
       "      <td>...</td>\n",
       "      <td>...</td>\n",
       "      <td>...</td>\n",
       "      <td>...</td>\n",
       "      <td>...</td>\n",
       "      <td>...</td>\n",
       "    </tr>\n",
       "    <tr>\n",
       "      <th>3066761</th>\n",
       "      <td>2</td>\n",
       "      <td>2023-01-31 23:58:34</td>\n",
       "      <td>2023-02-01 00:12:33</td>\n",
       "      <td>NaN</td>\n",
       "      <td>3.05</td>\n",
       "      <td>NaN</td>\n",
       "      <td>None</td>\n",
       "      <td>107</td>\n",
       "      <td>48</td>\n",
       "      <td>0</td>\n",
       "      <td>15.80</td>\n",
       "      <td>0.00</td>\n",
       "      <td>0.5</td>\n",
       "      <td>3.96</td>\n",
       "      <td>0.0</td>\n",
       "      <td>1.0</td>\n",
       "      <td>23.76</td>\n",
       "      <td>NaN</td>\n",
       "      <td>NaN</td>\n",
       "      <td>13.983333</td>\n",
       "    </tr>\n",
       "    <tr>\n",
       "      <th>3066762</th>\n",
       "      <td>2</td>\n",
       "      <td>2023-01-31 23:31:09</td>\n",
       "      <td>2023-01-31 23:50:36</td>\n",
       "      <td>NaN</td>\n",
       "      <td>5.80</td>\n",
       "      <td>NaN</td>\n",
       "      <td>None</td>\n",
       "      <td>112</td>\n",
       "      <td>75</td>\n",
       "      <td>0</td>\n",
       "      <td>22.43</td>\n",
       "      <td>0.00</td>\n",
       "      <td>0.5</td>\n",
       "      <td>2.64</td>\n",
       "      <td>0.0</td>\n",
       "      <td>1.0</td>\n",
       "      <td>29.07</td>\n",
       "      <td>NaN</td>\n",
       "      <td>NaN</td>\n",
       "      <td>19.450000</td>\n",
       "    </tr>\n",
       "    <tr>\n",
       "      <th>3066763</th>\n",
       "      <td>2</td>\n",
       "      <td>2023-01-31 23:01:05</td>\n",
       "      <td>2023-01-31 23:25:36</td>\n",
       "      <td>NaN</td>\n",
       "      <td>4.67</td>\n",
       "      <td>NaN</td>\n",
       "      <td>None</td>\n",
       "      <td>114</td>\n",
       "      <td>239</td>\n",
       "      <td>0</td>\n",
       "      <td>17.61</td>\n",
       "      <td>0.00</td>\n",
       "      <td>0.5</td>\n",
       "      <td>5.32</td>\n",
       "      <td>0.0</td>\n",
       "      <td>1.0</td>\n",
       "      <td>26.93</td>\n",
       "      <td>NaN</td>\n",
       "      <td>NaN</td>\n",
       "      <td>24.516667</td>\n",
       "    </tr>\n",
       "    <tr>\n",
       "      <th>3066764</th>\n",
       "      <td>2</td>\n",
       "      <td>2023-01-31 23:40:00</td>\n",
       "      <td>2023-01-31 23:53:00</td>\n",
       "      <td>NaN</td>\n",
       "      <td>3.15</td>\n",
       "      <td>NaN</td>\n",
       "      <td>None</td>\n",
       "      <td>230</td>\n",
       "      <td>79</td>\n",
       "      <td>0</td>\n",
       "      <td>18.15</td>\n",
       "      <td>0.00</td>\n",
       "      <td>0.5</td>\n",
       "      <td>4.43</td>\n",
       "      <td>0.0</td>\n",
       "      <td>1.0</td>\n",
       "      <td>26.58</td>\n",
       "      <td>NaN</td>\n",
       "      <td>NaN</td>\n",
       "      <td>13.000000</td>\n",
       "    </tr>\n",
       "    <tr>\n",
       "      <th>3066765</th>\n",
       "      <td>2</td>\n",
       "      <td>2023-01-31 23:07:32</td>\n",
       "      <td>2023-01-31 23:21:56</td>\n",
       "      <td>NaN</td>\n",
       "      <td>2.85</td>\n",
       "      <td>NaN</td>\n",
       "      <td>None</td>\n",
       "      <td>262</td>\n",
       "      <td>143</td>\n",
       "      <td>0</td>\n",
       "      <td>15.97</td>\n",
       "      <td>0.00</td>\n",
       "      <td>0.5</td>\n",
       "      <td>2.00</td>\n",
       "      <td>0.0</td>\n",
       "      <td>1.0</td>\n",
       "      <td>21.97</td>\n",
       "      <td>NaN</td>\n",
       "      <td>NaN</td>\n",
       "      <td>14.400000</td>\n",
       "    </tr>\n",
       "  </tbody>\n",
       "</table>\n",
       "<p>3009173 rows × 20 columns</p>\n",
       "</div>"
      ],
      "text/plain": [
       "         VendorID tpep_pickup_datetime tpep_dropoff_datetime  passenger_count  \\\n",
       "0               2  2023-01-01 00:32:10   2023-01-01 00:40:36              1.0   \n",
       "1               2  2023-01-01 00:55:08   2023-01-01 01:01:27              1.0   \n",
       "2               2  2023-01-01 00:25:04   2023-01-01 00:37:49              1.0   \n",
       "3               1  2023-01-01 00:03:48   2023-01-01 00:13:25              0.0   \n",
       "4               2  2023-01-01 00:10:29   2023-01-01 00:21:19              1.0   \n",
       "...           ...                  ...                   ...              ...   \n",
       "3066761         2  2023-01-31 23:58:34   2023-02-01 00:12:33              NaN   \n",
       "3066762         2  2023-01-31 23:31:09   2023-01-31 23:50:36              NaN   \n",
       "3066763         2  2023-01-31 23:01:05   2023-01-31 23:25:36              NaN   \n",
       "3066764         2  2023-01-31 23:40:00   2023-01-31 23:53:00              NaN   \n",
       "3066765         2  2023-01-31 23:07:32   2023-01-31 23:21:56              NaN   \n",
       "\n",
       "         trip_distance  RatecodeID store_and_fwd_flag  PULocationID  \\\n",
       "0                 0.97         1.0                  N           161   \n",
       "1                 1.10         1.0                  N            43   \n",
       "2                 2.51         1.0                  N            48   \n",
       "3                 1.90         1.0                  N           138   \n",
       "4                 1.43         1.0                  N           107   \n",
       "...                ...         ...                ...           ...   \n",
       "3066761           3.05         NaN               None           107   \n",
       "3066762           5.80         NaN               None           112   \n",
       "3066763           4.67         NaN               None           114   \n",
       "3066764           3.15         NaN               None           230   \n",
       "3066765           2.85         NaN               None           262   \n",
       "\n",
       "         DOLocationID  payment_type  fare_amount  extra  mta_tax  tip_amount  \\\n",
       "0                 141             2         9.30   1.00      0.5        0.00   \n",
       "1                 237             1         7.90   1.00      0.5        4.00   \n",
       "2                 238             1        14.90   1.00      0.5       15.00   \n",
       "3                   7             1        12.10   7.25      0.5        0.00   \n",
       "4                  79             1        11.40   1.00      0.5        3.28   \n",
       "...               ...           ...          ...    ...      ...         ...   \n",
       "3066761            48             0        15.80   0.00      0.5        3.96   \n",
       "3066762            75             0        22.43   0.00      0.5        2.64   \n",
       "3066763           239             0        17.61   0.00      0.5        5.32   \n",
       "3066764            79             0        18.15   0.00      0.5        4.43   \n",
       "3066765           143             0        15.97   0.00      0.5        2.00   \n",
       "\n",
       "         tolls_amount  improvement_surcharge  total_amount  \\\n",
       "0                 0.0                    1.0         14.30   \n",
       "1                 0.0                    1.0         16.90   \n",
       "2                 0.0                    1.0         34.90   \n",
       "3                 0.0                    1.0         20.85   \n",
       "4                 0.0                    1.0         19.68   \n",
       "...               ...                    ...           ...   \n",
       "3066761           0.0                    1.0         23.76   \n",
       "3066762           0.0                    1.0         29.07   \n",
       "3066763           0.0                    1.0         26.93   \n",
       "3066764           0.0                    1.0         26.58   \n",
       "3066765           0.0                    1.0         21.97   \n",
       "\n",
       "         congestion_surcharge  airport_fee   duration  \n",
       "0                         2.5         0.00   8.433333  \n",
       "1                         2.5         0.00   6.316667  \n",
       "2                         2.5         0.00  12.750000  \n",
       "3                         0.0         1.25   9.616667  \n",
       "4                         2.5         0.00  10.833333  \n",
       "...                       ...          ...        ...  \n",
       "3066761                   NaN          NaN  13.983333  \n",
       "3066762                   NaN          NaN  19.450000  \n",
       "3066763                   NaN          NaN  24.516667  \n",
       "3066764                   NaN          NaN  13.000000  \n",
       "3066765                   NaN          NaN  14.400000  \n",
       "\n",
       "[3009173 rows x 20 columns]"
      ]
     },
     "execution_count": 5,
     "metadata": {},
     "output_type": "execute_result"
    }
   ],
   "source": [
    "df_train"
   ]
  },
  {
   "cell_type": "code",
   "execution_count": 6,
   "id": "376aa8d4-a382-46b2-b26e-4404918e7741",
   "metadata": {
    "scrolled": true
   },
   "outputs": [
    {
     "data": {
      "text/plain": [
       "count    3.009173e+06\n",
       "mean     1.420486e+01\n",
       "std      9.939386e+00\n",
       "min      1.000000e+00\n",
       "25%      7.216667e+00\n",
       "50%      1.155000e+01\n",
       "75%      1.818333e+01\n",
       "max      6.000000e+01\n",
       "Name: duration, dtype: float64"
      ]
     },
     "execution_count": 6,
     "metadata": {},
     "output_type": "execute_result"
    }
   ],
   "source": [
    "df_train['duration'].describe()"
   ]
  },
  {
   "cell_type": "code",
   "execution_count": 7,
   "id": "76453f21-d433-42bc-bc95-7f81d0b10428",
   "metadata": {},
   "outputs": [
    {
     "data": {
      "text/plain": [
       "9.939385620151036"
      ]
     },
     "execution_count": 7,
     "metadata": {},
     "output_type": "execute_result"
    }
   ],
   "source": [
    "std_dev_january = df_train['duration'].std()\n",
    "std_dev_january"
   ]
  },
  {
   "cell_type": "code",
   "execution_count": 8,
   "id": "68f50734-35df-4ec6-9518-709f71eeb6e1",
   "metadata": {},
   "outputs": [
    {
     "data": {
      "image/png": "[encoded data removed]",
      "text/plain": [
       "<Figure size 500x500 with 1 Axes>"
      ]
     },
     "metadata": {},
     "output_type": "display_data"
    }
   ],
   "source": [
    "sns.displot(df_train['duration'])\n",
    "\n",
    "plt.show()"
   ]
  },
  {
   "cell_type": "code",
   "execution_count": 9,
   "id": "1b4121df-36ea-4a9b-93e1-e35ed71d7b01",
   "metadata": {},
   "outputs": [
    {
     "data": {
      "image/png": "[encoded data removed]",
      "text/plain": [
       "<Figure size 500x500 with 1 Axes>"
      ]
     },
     "metadata": {},
     "output_type": "display_data"
    }
   ],
   "source": [
    "# Define the maximum duration to filter outliers\n",
    "max_distance = 60\n",
    "\n",
    "# Filter out the outliers\n",
    "duration_with_no_outlier = df_train[df_train['duration'] <= max_distance]\n",
    "\n",
    "# Plot the distribution of durations without outliers\n",
    "sns.displot(duration_with_no_outlier['duration'], kde=True)\n",
    "\n",
    "# Show the plot\n",
    "plt.show()"
   ]
  },
  {
   "cell_type": "code",
   "execution_count": 10,
   "id": "4cbc04b2-4b94-47dd-b384-447405e8c490",
   "metadata": {},
   "outputs": [
    {
     "name": "stdout",
     "output_type": "stream",
     "text": [
      "The number of matrix-encoded features is: 515\n"
     ]
    }
   ],
   "source": [
    "categorical = ['PULocationID', 'DOLocationID']\n",
    "target = 'duration'\n",
    "\n",
    "# Ensure the categorical columns are treated as strings\n",
    "df_train[categorical] = df_train[categorical].astype(str)\n",
    "df_val[categorical] = df_val[categorical].astype(str)\n",
    "\n",
    "# Convert the DataFrame to a list of dictionaries\n",
    "train_dicts = df_train[categorical].to_dict(orient='records')\n",
    "val_dicts = df_val[categorical].to_dict(orient='records')\n",
    "\n",
    "# Initialize the DictVectorizer\n",
    "dv = DictVectorizer()\n",
    "\n",
    "# Fit and transform the training data\n",
    "X_train = dv.fit_transform(train_dicts)\n",
    "\n",
    "# Print the number of encoded features\n",
    "print(f\"The number of matrix-encoded features is: {X_train.shape[1]}\")\n",
    "\n",
    "# Transform the validation data\n",
    "X_val = dv.transform(val_dicts)\n",
    "\n",
    "# Extract the target values\n",
    "y_train = df_train[target].values\n",
    "y_val = df_val[target].values\n",
    "\n",
    "# Train a linear regression model\n",
    "model = LinearRegression()\n",
    "model.fit(X_train, y_train)\n",
    "\n",
    "# Make predictions on the validation set\n",
    "y_pred = model.predict(X_val)\n",
    "\n",
    "\n"
   ]
  },
  {
   "cell_type": "markdown",
   "id": "36ec842a-f892-4898-9b03-715cfb9d4cd5",
   "metadata": {},
   "source": [
    "#### Training the model\n",
    "\n",
    " Base Model : Linear Regression"
   ]
  },
  {
   "cell_type": "code",
   "execution_count": 11,
   "id": "035b7dd7-d417-467f-b91d-c4ac980d6d95",
   "metadata": {},
   "outputs": [],
   "source": [
    "lr = LinearRegression()\n",
    "lr.fit(X_train, y_train)\n",
    "\n",
    "y_val_pred = lr.predict(X_val)\n",
    "\n",
    "y_pred = lr.predict(X_train)\n",
    "\n",
    "\n",
    "\n",
    "\n"
   ]
  },
  {
   "cell_type": "markdown",
   "id": "4a4c0328-d7d3-4208-b615-f5f424d7172a",
   "metadata": {},
   "source": [
    "### Evaluating model performance on training and validation set"
   ]
  },
  {
   "cell_type": "code",
   "execution_count": null,
   "id": "8f76698b-4fb8-4036-88dc-45dbda422909",
   "metadata": {},
   "outputs": [],
   "source": [
    "# Calculate the Root Mean Squared Error (RMSE)\n",
    "val_rmse = mean_squared_error(y_val, y_val_pred, squared=False)\n",
    "print(f\"base model Root Mean Squared Error on validation set: {val_rmse}\")\n",
    "\n",
    "train_rmse = mean_squared_error(y_train, y_pred, squared=False)\n",
    "print(f\"base model Root Mean Squared Error on training set: {train_rmse}\")"
   ]
  },
  {
   "cell_type": "markdown",
   "id": "e64b573b-2d78-4625-90d5-abda7c747560",
   "metadata": {},
   "source": [
    "### Displaying the performance of the model"
   ]
  },
  {
   "cell_type": "code",
   "execution_count": null,
   "id": "c5bfa3ba-57f4-4e6e-adda-2899468bf319",
   "metadata": {
    "scrolled": true
   },
   "outputs": [],
   "source": [
    "# Plot the distribution of predicted values\n",
    "sns.histplot(y_val_pred, kde=True, label='Prediction', color='blue')\n",
    "\n",
    "# Plot the distribution of actual values\n",
    "sns.histplot(y_train, kde=True, label='Actual', color='orange')\n",
    "\n",
    "# Add legend\n",
    "plt.legend()\n",
    "\n",
    "plt.show()\n",
    "\n"
   ]
  },
  {
   "cell_type": "code",
   "execution_count": null,
   "id": "ca8f66da-d0d5-418f-82f5-6f2efb4b5779",
   "metadata": {},
   "outputs": [],
   "source": [
    "# Plot the distribution of predicted values\n",
    "sns.histplot(y_pred, kde=True, label='Prediction', color='blue')\n",
    "\n",
    "# Plot the distribution of actual values\n",
    "sns.histplot(y_train, kde=True, label='Actual', color='orange')\n",
    "\n",
    "# Add legend\n",
    "plt.legend()\n",
    "\n",
    "# Show the plot\n",
    "\n",
    "plt.show()"
   ]
  },
  {
   "cell_type": "code",
   "execution_count": null,
   "id": "ab77d826-e483-4025-adcc-87e619244d52",
   "metadata": {},
   "outputs": [],
   "source": [
    "len(df_train), len(df_val)"
   ]
  },
  {
   "cell_type": "code",
   "execution_count": null,
   "id": "4a2cd687-78bb-48a9-bc6b-2dad311bde1e",
   "metadata": {},
   "outputs": [],
   "source": [
    "ridge = Ridge(alpha=0.001)\n",
    "ridge.fit(X_train, y_train)\n",
    "\n",
    "ridge_pred = ridge.predict(X_val)\n",
    "\n",
    "ridge_rmse = mean_squared_error(y_val, ridge_pred, squared=False)\n",
    "print(f\"ridge model Root Mean Squared Error on training set: {ridge_rmse}\")"
   ]
  },
  {
   "cell_type": "code",
   "execution_count": null,
   "id": "eb1dfc40-12d7-4bf8-b914-570c3b65a38a",
   "metadata": {},
   "outputs": [],
   "source": [
    "with open('models/lin_reg.bin', 'wb') as f_out:\n",
    "    pickle.dump((dv, lr), f_out)"
   ]
  },
  {
   "cell_type": "code",
   "execution_count": null,
   "id": "7b7d1aeb-dd72-438d-86d1-a22870330ee9",
   "metadata": {},
   "outputs": [],
   "source": [
    "las = Lasso(0.01)\n",
    "las.fit(X_train, y_train)\n",
    "\n",
    "las_pred = las.predict(X_val)\n",
    "\n",
    "las_rmse = mean_squared_error(y_val, las_pred, squared=False)\n",
    "print(f\"Lasso model Root Mean Squared Error on training set: {las_rmse}\")"
   ]
  },
  {
   "cell_type": "code",
   "execution_count": null,
   "id": "8a31286f-a545-4110-8722-afe8d1478a20",
   "metadata": {},
   "outputs": [],
   "source": []
  },
  {
   "cell_type": "code",
   "execution_count": null,
   "id": "7688a8f3-4b95-4c4d-be2f-00cfbf481589",
   "metadata": {},
   "outputs": [],
   "source": []
  },
  {
   "cell_type": "code",
   "execution_count": null,
   "id": "cb032be7",
   "metadata": {},
   "outputs": [],
   "source": []
  }
 ],
 "metadata": {
  "kernelspec": {
   "display_name": "Python 3 (ipykernel)",
   "language": "python",
   "name": "python3"
  },
  "language_info": {
   "codemirror_mode": {
    "name": "ipython",
    "version": 3
   },
   "file_extension": ".py",
   "mimetype": "text/x-python",
   "name": "python",
   "nbconvert_exporter": "python",
   "pygments_lexer": "ipython3",
   "version": "3.11.9"
  },
  "widgets": {
   "application/vnd.jupyter.widget-state+json": {
    "state": {},
    "version_major": 2,
    "version_minor": 0
   }
  }
 },
 "nbformat": 4,
 "nbformat_minor": 5
}
