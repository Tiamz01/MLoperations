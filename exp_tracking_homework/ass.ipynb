{
 "cells": [
  {
   "cell_type": "code",
   "execution_count": 6,
   "metadata": {},
   "outputs": [],
   "source": [
    "import mlflow\n",
    "\n"
   ]
  },
  {
   "cell_type": "code",
   "execution_count": 7,
   "metadata": {},
   "outputs": [],
   "source": [
    "from mlflow.tracking import MlflowClient\n",
    "\n",
    "# Reference the  the database \n",
    "TRACKING_URI = 'sqlite:///homework_mlflow.db'\n",
    "\n",
    "# Now configure the client to track from the database\n",
    "client = MlflowClient(tracking_uri=TRACKING_URI)"
   ]
  },
  {
   "cell_type": "code",
   "execution_count": 8,
   "metadata": {},
   "outputs": [
    {
     "data": {
      "text/plain": [
       "[<Experiment: artifact_location='mlflow-artifacts:/2', creation_time=1716816206157, experiment_id='2', last_update_time=1716816206157, lifecycle_stage='active', name='random-forest-hyperopt', tags={}>,\n",
       " <Experiment: artifact_location='/home/t.sukanmi/mlops_pratical/exp_tracking_homework/mlruns/1', creation_time=1716815714407, experiment_id='1', last_update_time=1716815714407, lifecycle_stage='active', name='Exp_tracking_assignment', tags={}>,\n",
       " <Experiment: artifact_location='/home/t.sukanmi/mlops_pratical/exp_tracking_homework/mlruns/0', creation_time=1716815714397, experiment_id='0', last_update_time=1716815714397, lifecycle_stage='active', name='Default', tags={}>]"
      ]
     },
     "execution_count": 8,
     "metadata": {},
     "output_type": "execute_result"
    }
   ],
   "source": [
    "client.search_experiments()"
   ]
  },
  {
   "cell_type": "code",
   "execution_count": null,
   "metadata": {},
   "outputs": [],
   "source": [
    "# client.create_experiment(name='best experiment')"
   ]
  },
  {
   "cell_type": "code",
   "execution_count": null,
   "metadata": {},
   "outputs": [],
   "source": [
    "# from mlflow.entities import ViewType\n",
    "# runs = client.search_runs(\n",
    "#     experiment_ids = '1',\n",
    "#     filter_string=\"metrics.rmse < 6.8\",\n",
    "#     run_view_type= ViewType.ACTIVE_ONLY,\n",
    "#     max_results=5,\n",
    "#     order_by=['metrics.rmse ASC']\n",
    "# )"
   ]
  },
  {
   "cell_type": "code",
   "execution_count": null,
   "metadata": {},
   "outputs": [],
   "source": [
    "print(runs)"
   ]
  },
  {
   "cell_type": "code",
   "execution_count": null,
   "metadata": {},
   "outputs": [],
   "source": [
    "for run in runs:\n",
    "    print(f\"run id: {run.info.run_id}, rmse: {run.data.metrics['rmse']:.4f}\")\n"
   ]
  },
  {
   "cell_type": "markdown",
   "metadata": {},
   "source": [
    "Creating a tracking servver"
   ]
  },
  {
   "cell_type": "code",
   "execution_count": 5,
   "metadata": {},
   "outputs": [
    {
     "name": "stderr",
     "output_type": "stream",
     "text": [
      "WARNING:root:Malformed experiment '1'. Detailed error Yaml file '/home/t.sukanmi/mlops_pratical/exp_tracking_homework/mlruns/1/meta.yaml' does not exist.\n",
      "Traceback (most recent call last):\n",
      "  File \"/home/t.sukanmi/anaconda3/envs/exp_trk_ass/lib/python3.9/site-packages/mlflow/store/tracking/file_store.py\", line 315, in search_experiments\n",
      "    exp = self._get_experiment(exp_id, view_type)\n",
      "  File \"/home/t.sukanmi/anaconda3/envs/exp_trk_ass/lib/python3.9/site-packages/mlflow/store/tracking/file_store.py\", line 408, in _get_experiment\n",
      "    meta = FileStore._read_yaml(experiment_dir, FileStore.META_DATA_FILE_NAME)\n",
      "  File \"/home/t.sukanmi/anaconda3/envs/exp_trk_ass/lib/python3.9/site-packages/mlflow/store/tracking/file_store.py\", line 1336, in _read_yaml\n",
      "    return _read_helper(root, file_name, attempts_remaining=retries)\n",
      "  File \"/home/t.sukanmi/anaconda3/envs/exp_trk_ass/lib/python3.9/site-packages/mlflow/store/tracking/file_store.py\", line 1329, in _read_helper\n",
      "    result = read_yaml(root, file_name)\n",
      "  File \"/home/t.sukanmi/anaconda3/envs/exp_trk_ass/lib/python3.9/site-packages/mlflow/utils/file_utils.py\", line 309, in read_yaml\n",
      "    raise MissingConfigException(f\"Yaml file '{file_path}' does not exist.\")\n",
      "mlflow.exceptions.MissingConfigException: Yaml file '/home/t.sukanmi/mlops_pratical/exp_tracking_homework/mlruns/1/meta.yaml' does not exist.\n"
     ]
    },
    {
     "data": {
      "text/plain": [
       "[]"
      ]
     },
     "execution_count": 5,
     "metadata": {},
     "output_type": "execute_result"
    }
   ],
   "source": [
    "mlflow.search_experiments()"
   ]
  },
  {
   "cell_type": "code",
   "execution_count": null,
   "metadata": {},
   "outputs": [],
   "source": []
  }
 ],
 "metadata": {
  "kernelspec": {
   "display_name": "exp_trk_ass",
   "language": "python",
   "name": "python3"
  },
  "language_info": {
   "codemirror_mode": {
    "name": "ipython",
    "version": 3
   },
   "file_extension": ".py",
   "mimetype": "text/x-python",
   "name": "python",
   "nbconvert_exporter": "python",
   "pygments_lexer": "ipython3",
   "version": "3.9.19"
  }
 },
 "nbformat": 4,
 "nbformat_minor": 2
}
