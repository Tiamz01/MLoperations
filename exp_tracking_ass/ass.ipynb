{
 "cells": [
  {
   "cell_type": "code",
   "execution_count": 8,
   "metadata": {},
   "outputs": [],
   "source": [
    "import mlflow\n",
    "\n"
   ]
  },
  {
   "cell_type": "code",
   "execution_count": 9,
   "metadata": {},
   "outputs": [
    {
     "name": "stderr",
     "output_type": "stream",
     "text": [
      "2024/05/24 22:22:33 INFO mlflow.tracking.fluent: Experiment with name 'Exp_tracking_assignment' does not exist. Creating a new experiment.\n"
     ]
    },
    {
     "data": {
      "text/plain": [
       "<Experiment: artifact_location='/home/t.sukanmi/mlops_pratical/exp_tracking_ass/mlruns/1', creation_time=1716589353826, experiment_id='1', last_update_time=1716589353826, lifecycle_stage='active', name='Exp_tracking_assignment', tags={}>"
      ]
     },
     "execution_count": 9,
     "metadata": {},
     "output_type": "execute_result"
    }
   ],
   "source": [
    "mlflow.set_tracking_uri('sqlite:///ass_mlflow.db')\n",
    "\n",
    "mlflow.set_experiment('Exp_tracking_assignment')"
   ]
  },
  {
   "cell_type": "code",
   "execution_count": 10,
   "metadata": {},
   "outputs": [
    {
     "name": "stdout",
     "output_type": "stream",
     "text": [
      "Requirement already satisfied: scikit-learn in /home/t.sukanmi/anaconda3/envs/exp_trk_ass/lib/python3.9/site-packages (1.5.0)\n",
      "Requirement already satisfied: numpy>=1.19.5 in /home/t.sukanmi/anaconda3/envs/exp_trk_ass/lib/python3.9/site-packages (from scikit-learn) (1.26.4)\n",
      "Requirement already satisfied: scipy>=1.6.0 in /home/t.sukanmi/anaconda3/envs/exp_trk_ass/lib/python3.9/site-packages (from scikit-learn) (1.13.1)\n",
      "Requirement already satisfied: joblib>=1.2.0 in /home/t.sukanmi/anaconda3/envs/exp_trk_ass/lib/python3.9/site-packages (from scikit-learn) (1.4.2)\n",
      "Requirement already satisfied: threadpoolctl>=3.1.0 in /home/t.sukanmi/anaconda3/envs/exp_trk_ass/lib/python3.9/site-packages (from scikit-learn) (3.5.0)\n",
      "Note: you may need to restart the kernel to use updated packages.\n"
     ]
    }
   ],
   "source": [
    "pip install --upgrade scikit-learn\n"
   ]
  },
  {
   "cell_type": "code",
   "execution_count": 11,
   "metadata": {},
   "outputs": [
    {
     "name": "stdout",
     "output_type": "stream",
     "text": [
      "Requirement already satisfied: mlflow in /home/t.sukanmi/anaconda3/envs/exp_trk_ass/lib/python3.9/site-packages (2.13.0)\n",
      "Requirement already satisfied: Flask<4 in /home/t.sukanmi/anaconda3/envs/exp_trk_ass/lib/python3.9/site-packages (from mlflow) (3.0.3)\n",
      "Requirement already satisfied: alembic!=1.10.0,<2 in /home/t.sukanmi/anaconda3/envs/exp_trk_ass/lib/python3.9/site-packages (from mlflow) (1.13.1)\n",
      "Requirement already satisfied: cachetools<6,>=5.0.0 in /home/t.sukanmi/anaconda3/envs/exp_trk_ass/lib/python3.9/site-packages (from mlflow) (5.3.3)\n",
      "Requirement already satisfied: click<9,>=7.0 in /home/t.sukanmi/anaconda3/envs/exp_trk_ass/lib/python3.9/site-packages (from mlflow) (8.1.7)\n",
      "Requirement already satisfied: cloudpickle<4 in /home/t.sukanmi/anaconda3/envs/exp_trk_ass/lib/python3.9/site-packages (from mlflow) (3.0.0)\n",
      "Requirement already satisfied: docker<8,>=4.0.0 in /home/t.sukanmi/anaconda3/envs/exp_trk_ass/lib/python3.9/site-packages (from mlflow) (7.1.0)\n",
      "Requirement already satisfied: entrypoints<1 in /home/t.sukanmi/anaconda3/envs/exp_trk_ass/lib/python3.9/site-packages (from mlflow) (0.4)\n",
      "Requirement already satisfied: gitpython<4,>=3.1.9 in /home/t.sukanmi/anaconda3/envs/exp_trk_ass/lib/python3.9/site-packages (from mlflow) (3.1.43)\n",
      "Requirement already satisfied: graphene<4 in /home/t.sukanmi/anaconda3/envs/exp_trk_ass/lib/python3.9/site-packages (from mlflow) (3.3)\n",
      "Requirement already satisfied: importlib-metadata!=4.7.0,<8,>=3.7.0 in /home/t.sukanmi/anaconda3/envs/exp_trk_ass/lib/python3.9/site-packages (from mlflow) (7.0.0)\n",
      "Requirement already satisfied: markdown<4,>=3.3 in /home/t.sukanmi/anaconda3/envs/exp_trk_ass/lib/python3.9/site-packages (from mlflow) (3.6)\n",
      "Requirement already satisfied: matplotlib<4 in /home/t.sukanmi/anaconda3/envs/exp_trk_ass/lib/python3.9/site-packages (from mlflow) (3.9.0)\n",
      "Requirement already satisfied: numpy<2 in /home/t.sukanmi/anaconda3/envs/exp_trk_ass/lib/python3.9/site-packages (from mlflow) (1.26.4)\n",
      "Requirement already satisfied: opentelemetry-api<3,>=1.0.0 in /home/t.sukanmi/anaconda3/envs/exp_trk_ass/lib/python3.9/site-packages (from mlflow) (1.24.0)\n",
      "Requirement already satisfied: opentelemetry-sdk<3,>=1.0.0 in /home/t.sukanmi/anaconda3/envs/exp_trk_ass/lib/python3.9/site-packages (from mlflow) (1.24.0)\n",
      "Requirement already satisfied: packaging<25 in /home/t.sukanmi/anaconda3/envs/exp_trk_ass/lib/python3.9/site-packages (from mlflow) (24.0)\n",
      "Requirement already satisfied: pandas<3 in /home/t.sukanmi/anaconda3/envs/exp_trk_ass/lib/python3.9/site-packages (from mlflow) (2.2.2)\n",
      "Requirement already satisfied: protobuf<5,>=3.12.0 in /home/t.sukanmi/anaconda3/envs/exp_trk_ass/lib/python3.9/site-packages (from mlflow) (4.25.3)\n",
      "Requirement already satisfied: pyarrow<16,>=4.0.0 in /home/t.sukanmi/anaconda3/envs/exp_trk_ass/lib/python3.9/site-packages (from mlflow) (15.0.2)\n",
      "Requirement already satisfied: pytz<2025 in /home/t.sukanmi/anaconda3/envs/exp_trk_ass/lib/python3.9/site-packages (from mlflow) (2024.1)\n",
      "Requirement already satisfied: pyyaml<7,>=5.1 in /home/t.sukanmi/anaconda3/envs/exp_trk_ass/lib/python3.9/site-packages (from mlflow) (6.0.1)\n",
      "Requirement already satisfied: querystring-parser<2 in /home/t.sukanmi/anaconda3/envs/exp_trk_ass/lib/python3.9/site-packages (from mlflow) (1.2.4)\n",
      "Requirement already satisfied: requests<3,>=2.17.3 in /home/t.sukanmi/anaconda3/envs/exp_trk_ass/lib/python3.9/site-packages (from mlflow) (2.32.2)\n",
      "Requirement already satisfied: scikit-learn<2 in /home/t.sukanmi/anaconda3/envs/exp_trk_ass/lib/python3.9/site-packages (from mlflow) (1.5.0)\n",
      "Requirement already satisfied: scipy<2 in /home/t.sukanmi/anaconda3/envs/exp_trk_ass/lib/python3.9/site-packages (from mlflow) (1.13.1)\n",
      "Requirement already satisfied: sqlalchemy<3,>=1.4.0 in /home/t.sukanmi/anaconda3/envs/exp_trk_ass/lib/python3.9/site-packages (from mlflow) (2.0.30)\n",
      "Requirement already satisfied: sqlparse<1,>=0.4.0 in /home/t.sukanmi/anaconda3/envs/exp_trk_ass/lib/python3.9/site-packages (from mlflow) (0.5.0)\n",
      "Requirement already satisfied: Jinja2<4,>=2.11 in /home/t.sukanmi/anaconda3/envs/exp_trk_ass/lib/python3.9/site-packages (from mlflow) (3.1.4)\n",
      "Requirement already satisfied: gunicorn<23 in /home/t.sukanmi/anaconda3/envs/exp_trk_ass/lib/python3.9/site-packages (from mlflow) (22.0.0)\n",
      "Requirement already satisfied: Mako in /home/t.sukanmi/anaconda3/envs/exp_trk_ass/lib/python3.9/site-packages (from alembic!=1.10.0,<2->mlflow) (1.3.5)\n",
      "Requirement already satisfied: typing-extensions>=4 in /home/t.sukanmi/anaconda3/envs/exp_trk_ass/lib/python3.9/site-packages (from alembic!=1.10.0,<2->mlflow) (4.11.0)\n",
      "Requirement already satisfied: urllib3>=1.26.0 in /home/t.sukanmi/anaconda3/envs/exp_trk_ass/lib/python3.9/site-packages (from docker<8,>=4.0.0->mlflow) (2.2.1)\n",
      "Requirement already satisfied: Werkzeug>=3.0.0 in /home/t.sukanmi/anaconda3/envs/exp_trk_ass/lib/python3.9/site-packages (from Flask<4->mlflow) (3.0.3)\n",
      "Requirement already satisfied: itsdangerous>=2.1.2 in /home/t.sukanmi/anaconda3/envs/exp_trk_ass/lib/python3.9/site-packages (from Flask<4->mlflow) (2.2.0)\n",
      "Requirement already satisfied: blinker>=1.6.2 in /home/t.sukanmi/anaconda3/envs/exp_trk_ass/lib/python3.9/site-packages (from Flask<4->mlflow) (1.8.2)\n",
      "Requirement already satisfied: gitdb<5,>=4.0.1 in /home/t.sukanmi/anaconda3/envs/exp_trk_ass/lib/python3.9/site-packages (from gitpython<4,>=3.1.9->mlflow) (4.0.11)\n",
      "Requirement already satisfied: graphql-core<3.3,>=3.1 in /home/t.sukanmi/anaconda3/envs/exp_trk_ass/lib/python3.9/site-packages (from graphene<4->mlflow) (3.2.3)\n",
      "Requirement already satisfied: graphql-relay<3.3,>=3.1 in /home/t.sukanmi/anaconda3/envs/exp_trk_ass/lib/python3.9/site-packages (from graphene<4->mlflow) (3.2.0)\n",
      "Requirement already satisfied: aniso8601<10,>=8 in /home/t.sukanmi/anaconda3/envs/exp_trk_ass/lib/python3.9/site-packages (from graphene<4->mlflow) (9.0.1)\n",
      "Requirement already satisfied: zipp>=0.5 in /home/t.sukanmi/anaconda3/envs/exp_trk_ass/lib/python3.9/site-packages (from importlib-metadata!=4.7.0,<8,>=3.7.0->mlflow) (3.18.2)\n",
      "Requirement already satisfied: MarkupSafe>=2.0 in /home/t.sukanmi/anaconda3/envs/exp_trk_ass/lib/python3.9/site-packages (from Jinja2<4,>=2.11->mlflow) (2.1.5)\n",
      "Requirement already satisfied: contourpy>=1.0.1 in /home/t.sukanmi/anaconda3/envs/exp_trk_ass/lib/python3.9/site-packages (from matplotlib<4->mlflow) (1.2.1)\n",
      "Requirement already satisfied: cycler>=0.10 in /home/t.sukanmi/anaconda3/envs/exp_trk_ass/lib/python3.9/site-packages (from matplotlib<4->mlflow) (0.12.1)\n",
      "Requirement already satisfied: fonttools>=4.22.0 in /home/t.sukanmi/anaconda3/envs/exp_trk_ass/lib/python3.9/site-packages (from matplotlib<4->mlflow) (4.51.0)\n",
      "Requirement already satisfied: kiwisolver>=1.3.1 in /home/t.sukanmi/anaconda3/envs/exp_trk_ass/lib/python3.9/site-packages (from matplotlib<4->mlflow) (1.4.5)\n",
      "Requirement already satisfied: pillow>=8 in /home/t.sukanmi/anaconda3/envs/exp_trk_ass/lib/python3.9/site-packages (from matplotlib<4->mlflow) (10.3.0)\n",
      "Requirement already satisfied: pyparsing>=2.3.1 in /home/t.sukanmi/anaconda3/envs/exp_trk_ass/lib/python3.9/site-packages (from matplotlib<4->mlflow) (3.1.2)\n",
      "Requirement already satisfied: python-dateutil>=2.7 in /home/t.sukanmi/anaconda3/envs/exp_trk_ass/lib/python3.9/site-packages (from matplotlib<4->mlflow) (2.9.0.post0)\n",
      "Requirement already satisfied: importlib-resources>=3.2.0 in /home/t.sukanmi/anaconda3/envs/exp_trk_ass/lib/python3.9/site-packages (from matplotlib<4->mlflow) (6.4.0)\n",
      "Requirement already satisfied: deprecated>=1.2.6 in /home/t.sukanmi/anaconda3/envs/exp_trk_ass/lib/python3.9/site-packages (from opentelemetry-api<3,>=1.0.0->mlflow) (1.2.14)\n",
      "Requirement already satisfied: opentelemetry-semantic-conventions==0.45b0 in /home/t.sukanmi/anaconda3/envs/exp_trk_ass/lib/python3.9/site-packages (from opentelemetry-sdk<3,>=1.0.0->mlflow) (0.45b0)\n",
      "Requirement already satisfied: tzdata>=2022.7 in /home/t.sukanmi/anaconda3/envs/exp_trk_ass/lib/python3.9/site-packages (from pandas<3->mlflow) (2024.1)\n",
      "Requirement already satisfied: six in /home/t.sukanmi/anaconda3/envs/exp_trk_ass/lib/python3.9/site-packages (from querystring-parser<2->mlflow) (1.16.0)\n",
      "Requirement already satisfied: charset-normalizer<4,>=2 in /home/t.sukanmi/anaconda3/envs/exp_trk_ass/lib/python3.9/site-packages (from requests<3,>=2.17.3->mlflow) (3.3.2)\n",
      "Requirement already satisfied: idna<4,>=2.5 in /home/t.sukanmi/anaconda3/envs/exp_trk_ass/lib/python3.9/site-packages (from requests<3,>=2.17.3->mlflow) (3.7)\n",
      "Requirement already satisfied: certifi>=2017.4.17 in /home/t.sukanmi/anaconda3/envs/exp_trk_ass/lib/python3.9/site-packages (from requests<3,>=2.17.3->mlflow) (2024.2.2)\n",
      "Requirement already satisfied: joblib>=1.2.0 in /home/t.sukanmi/anaconda3/envs/exp_trk_ass/lib/python3.9/site-packages (from scikit-learn<2->mlflow) (1.4.2)\n",
      "Requirement already satisfied: threadpoolctl>=3.1.0 in /home/t.sukanmi/anaconda3/envs/exp_trk_ass/lib/python3.9/site-packages (from scikit-learn<2->mlflow) (3.5.0)\n",
      "Requirement already satisfied: greenlet!=0.4.17 in /home/t.sukanmi/anaconda3/envs/exp_trk_ass/lib/python3.9/site-packages (from sqlalchemy<3,>=1.4.0->mlflow) (3.0.3)\n",
      "Requirement already satisfied: wrapt<2,>=1.10 in /home/t.sukanmi/anaconda3/envs/exp_trk_ass/lib/python3.9/site-packages (from deprecated>=1.2.6->opentelemetry-api<3,>=1.0.0->mlflow) (1.16.0)\n",
      "Requirement already satisfied: smmap<6,>=3.0.1 in /home/t.sukanmi/anaconda3/envs/exp_trk_ass/lib/python3.9/site-packages (from gitdb<5,>=4.0.1->gitpython<4,>=3.1.9->mlflow) (5.0.1)\n",
      "Note: you may need to restart the kernel to use updated packages.\n"
     ]
    }
   ],
   "source": [
    "pip install --upgrade mlflow\n"
   ]
  }
 ],
 "metadata": {
  "kernelspec": {
   "display_name": "exp_trk_ass",
   "language": "python",
   "name": "python3"
  },
  "language_info": {
   "codemirror_mode": {
    "name": "ipython",
    "version": 3
   },
   "file_extension": ".py",
   "mimetype": "text/x-python",
   "name": "python",
   "nbconvert_exporter": "python",
   "pygments_lexer": "ipython3",
   "version": "3.9.19"
  }
 },
 "nbformat": 4,
 "nbformat_minor": 2
}
