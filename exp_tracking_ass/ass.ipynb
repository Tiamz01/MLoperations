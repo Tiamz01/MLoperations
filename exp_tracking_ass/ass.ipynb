{
 "cells": [
  {
   "cell_type": "code",
   "execution_count": 1,
   "metadata": {},
   "outputs": [],
   "source": [
    "import mlflow\n",
    "\n"
   ]
  },
  {
   "cell_type": "code",
   "execution_count": 2,
   "metadata": {},
   "outputs": [],
   "source": [
    "from mlflow.tracking import MlflowClient\n",
    "\n",
    "# Reference the  the database \n",
    "TRACKING_URI = 'sqlite:///ass_mlflow.db'\n",
    "\n",
    "# Now configure the client to track from the database\n",
    "client = MlflowClient(tracking_uri=TRACKING_URI)"
   ]
  },
  {
   "cell_type": "code",
   "execution_count": 12,
   "metadata": {},
   "outputs": [
    {
     "data": {
      "text/plain": [
       "[<Experiment: artifact_location='/home/t.sukanmi/mlops_pratical/exp_tracking_ass/mlruns/2', creation_time=1716592467278, experiment_id='2', last_update_time=1716592467278, lifecycle_stage='active', name='best experiment', tags={}>,\n",
       " <Experiment: artifact_location='/home/t.sukanmi/mlops_pratical/exp_tracking_ass/mlruns/1', creation_time=1716589353826, experiment_id='1', last_update_time=1716589353826, lifecycle_stage='active', name='Exp_tracking_assignment', tags={}>,\n",
       " <Experiment: artifact_location='mlflow-artifacts:/0', creation_time=1716589204204, experiment_id='0', last_update_time=1716589204204, lifecycle_stage='active', name='Default', tags={}>]"
      ]
     },
     "execution_count": 12,
     "metadata": {},
     "output_type": "execute_result"
    }
   ],
   "source": [
    "client.search_experiments()"
   ]
  },
  {
   "cell_type": "code",
   "execution_count": 5,
   "metadata": {},
   "outputs": [
    {
     "data": {
      "text/plain": [
       "'2'"
      ]
     },
     "execution_count": 5,
     "metadata": {},
     "output_type": "execute_result"
    }
   ],
   "source": [
    "client.create_experiment(name='best experiment')"
   ]
  },
  {
   "cell_type": "code",
   "execution_count": 25,
   "metadata": {},
   "outputs": [],
   "source": [
    "from mlflow.entities import ViewType\n",
    "runs = client.search_runs(\n",
    "    experiment_ids = '1',\n",
    "    filter_string=\"metrics.rmse < 6.8\",\n",
    "    run_view_type= ViewType.ACTIVE_ONLY,\n",
    "    max_results=5,\n",
    "    order_by=['metrics.rmse ASC']\n",
    ")"
   ]
  },
  {
   "cell_type": "code",
   "execution_count": 27,
   "metadata": {},
   "outputs": [
    {
     "name": "stdout",
     "output_type": "stream",
     "text": [
      "[<Run: data=<RunData: metrics={'rmse': 5.431162180141208,\n",
      " 'training_mean_absolute_error': 3.4244701942312354,\n",
      " 'training_mean_squared_error': 27.083054499499358,\n",
      " 'training_r2_score': 0.6673983775155525,\n",
      " 'training_root_mean_squared_error': 5.204138209108148,\n",
      " 'training_score': 0.6673983775155525}, params={'bootstrap': 'True',\n",
      " 'ccp_alpha': '0.0',\n",
      " 'criterion': 'squared_error',\n",
      " 'max_depth': '10',\n",
      " 'max_features': '1.0',\n",
      " 'max_leaf_nodes': 'None',\n",
      " 'max_samples': 'None',\n",
      " 'min_impurity_decrease': '0.0',\n",
      " 'min_samples_leaf': '1',\n",
      " 'min_samples_split': '2',\n",
      " 'min_weight_fraction_leaf': '0.0',\n",
      " 'monotonic_cst': 'None',\n",
      " 'n_estimators': '100',\n",
      " 'n_jobs': 'None',\n",
      " 'oob_score': 'False',\n",
      " 'random_state': '0',\n",
      " 'train-data-path': './output/train.pkl',\n",
      " 'val-data-path': './output/val.pkl',\n",
      " 'verbose': '0',\n",
      " 'warm_start': 'False'}, tags={'estimator_class': 'sklearn.ensemble._forest.RandomForestRegressor',\n",
      " 'estimator_name': 'RandomForestRegressor',\n",
      " 'mlflow.log-model.history': '[{\"run_id\": \"75017bf898c14826bf1febd29cf73a2c\", '\n",
      "                             '\"artifact_path\": \"model\", \"utc_time_created\": '\n",
      "                             '\"2024-05-24 22:38:18.150143\", \"flavors\": '\n",
      "                             '{\"python_function\": {\"model_path\": \"model.pkl\", '\n",
      "                             '\"predict_fn\": \"predict\", \"loader_module\": '\n",
      "                             '\"mlflow.sklearn\", \"python_version\": \"3.9.19\", '\n",
      "                             '\"env\": {\"conda\": \"conda.yaml\", \"virtualenv\": '\n",
      "                             '\"python_env.yaml\"}}, \"sklearn\": '\n",
      "                             '{\"pickled_model\": \"model.pkl\", '\n",
      "                             '\"sklearn_version\": \"1.5.0\", '\n",
      "                             '\"serialization_format\": \"cloudpickle\", \"code\": '\n",
      "                             'null}}, \"model_uuid\": '\n",
      "                             '\"cf5d7e75abef41a9890155e58395754e\", '\n",
      "                             '\"mlflow_version\": \"2.13.0\", \"signature\": '\n",
      "                             '{\"inputs\": \"[{\\\\\"type\\\\\": \\\\\"tensor\\\\\", '\n",
      "                             '\\\\\"tensor-spec\\\\\": {\\\\\"dtype\\\\\": \\\\\"float64\\\\\", '\n",
      "                             '\\\\\"shape\\\\\": [-1, 5702]}}]\", \"outputs\": '\n",
      "                             '\"[{\\\\\"type\\\\\": \\\\\"tensor\\\\\", \\\\\"tensor-spec\\\\\": '\n",
      "                             '{\\\\\"dtype\\\\\": \\\\\"float64\\\\\", \\\\\"shape\\\\\": '\n",
      "                             '[-1]}}]\", \"params\": null}, \"model_size_bytes\": '\n",
      "                             '4528787}, {\"run_id\": '\n",
      "                             '\"75017bf898c14826bf1febd29cf73a2c\", '\n",
      "                             '\"artifact_path\": \"mlflow_models\", '\n",
      "                             '\"utc_time_created\": \"2024-05-24 '\n",
      "                             '22:38:24.004092\", \"flavors\": {\"sklearn\": '\n",
      "                             '{\"pickled_model\": \"model.pkl\", '\n",
      "                             '\"sklearn_version\": \"1.5.0\", '\n",
      "                             '\"serialization_format\": \"cloudpickle\", \"code\": '\n",
      "                             'null}}, \"model_uuid\": '\n",
      "                             '\"2e1a2049a5e24402900c7f049b7d2a73\", '\n",
      "                             '\"mlflow_version\": \"2.13.0\", \"model_size_bytes\": '\n",
      "                             '20}]',\n",
      " 'mlflow.runName': 'inquisitive-roo-69',\n",
      " 'mlflow.source.git.commit': '3fa69861adbd3adba4c5d037db746410c56fd764',\n",
      " 'mlflow.source.name': 'train.py',\n",
      " 'mlflow.source.type': 'LOCAL',\n",
      " 'mlflow.user': 't.sukanmi',\n",
      " 'model': 'RandomForestRegressor'}>, info=<RunInfo: artifact_uri='/home/t.sukanmi/mlops_pratical/exp_tracking_ass/mlruns/1/75017bf898c14826bf1febd29cf73a2c/artifacts', end_time=1716590305280, experiment_id='1', lifecycle_stage='active', run_id='75017bf898c14826bf1febd29cf73a2c', run_name='inquisitive-roo-69', run_uuid='75017bf898c14826bf1febd29cf73a2c', start_time=1716590279247, status='FINISHED', user_id='t.sukanmi'>, inputs=<RunInputs: dataset_inputs=[<DatasetInput: dataset=<Dataset: digest='7edda543', name='dataset', profile=('{\"features_shape\": [62574, 5702], \"features_size\": 356796948, '\n",
      " '\"features_nbytes\": 2854375584}'), schema=('{\"mlflow_tensorspec\": {\"features\": \"[{\\\\\"type\\\\\": \\\\\"tensor\\\\\", '\n",
      " '\\\\\"tensor-spec\\\\\": {\\\\\"dtype\\\\\": \\\\\"float64\\\\\", \\\\\"shape\\\\\": [-1, 5702]}}]\", '\n",
      " '\"targets\": null}}'), source=('{\"tags\": {\"mlflow.user\": \"t.sukanmi\", \"mlflow.source.name\": \"train.py\", '\n",
      " '\"mlflow.source.type\": \"LOCAL\", \"mlflow.source.git.commit\": '\n",
      " '\"c66b739f8aed35dfbe89421214197239a8801ad1\"}}'), source_type='code'>, tags=[<InputTag: key='mlflow.data.context', value='eval'>]>]>>, <Run: data=<RunData: metrics={'rmse': 5.431162180141208}, params={'train-data-path': './output/train.pkl', 'val-data-path': './output/val.pkl'}, tags={'mlflow.runName': 'bemused-turtle-182',\n",
      " 'mlflow.source.git.commit': 'c66b739f8aed35dfbe89421214197239a8801ad1',\n",
      " 'mlflow.source.name': 'train.py',\n",
      " 'mlflow.source.type': 'LOCAL',\n",
      " 'mlflow.user': 't.sukanmi',\n",
      " 'model': 'RandomForestRegressor'}>, info=<RunInfo: artifact_uri='/home/t.sukanmi/mlops_pratical/exp_tracking_ass/mlruns/1/8b22c6e1a674453bb6fe03b0df1cf39c/artifacts', end_time=1716589510402, experiment_id='1', lifecycle_stage='active', run_id='8b22c6e1a674453bb6fe03b0df1cf39c', run_name='bemused-turtle-182', run_uuid='8b22c6e1a674453bb6fe03b0df1cf39c', start_time=1716589492850, status='FINISHED', user_id='t.sukanmi'>, inputs=<RunInputs: dataset_inputs=[]>>]\n"
     ]
    }
   ],
   "source": [
    "print(runs)"
   ]
  },
  {
   "cell_type": "code",
   "execution_count": 33,
   "metadata": {},
   "outputs": [
    {
     "name": "stdout",
     "output_type": "stream",
     "text": [
      "run id: 75017bf898c14826bf1febd29cf73a2c, rmse: 5.4312\n",
      "run id: 8b22c6e1a674453bb6fe03b0df1cf39c, rmse: 5.4312\n"
     ]
    }
   ],
   "source": [
    "for run in runs:\n",
    "    print(f\"run id: {run.info.run_id}, rmse: {run.data.metrics['rmse']:.4f}\")\n"
   ]
  },
  {
   "cell_type": "code",
   "execution_count": 4,
   "metadata": {},
   "outputs": [
    {
     "ename": "SyntaxError",
     "evalue": "invalid syntax (338976709.py, line 1)",
     "output_type": "error",
     "traceback": [
      "\u001b[0;36m  Cell \u001b[0;32mIn[4], line 1\u001b[0;36m\u001b[0m\n\u001b[0;31m    mlflow server --backend-store-uri sqlite:///ass.mlflow.db --default-artifact-root ./artifacts --host 127.0.0.1 --port 5000\u001b[0m\n\u001b[0m           ^\u001b[0m\n\u001b[0;31mSyntaxError\u001b[0m\u001b[0;31m:\u001b[0m invalid syntax\n"
     ]
    }
   ],
   "source": [
    "mlflow server --backend-store-uri sqlite:///ass.mlflow.db --default-artifact-root ./artifacts --host 127.0.0.1 --port 5000\n"
   ]
  },
  {
   "cell_type": "code",
   "execution_count": 3,
   "metadata": {},
   "outputs": [
    {
     "name": "stderr",
     "output_type": "stream",
     "text": [
      "WARNING:root:Malformed experiment '1'. Detailed error Yaml file '/home/t.sukanmi/mlops_pratical/exp_tracking_ass/mlruns/1/meta.yaml' does not exist.\n",
      "Traceback (most recent call last):\n",
      "  File \"/home/t.sukanmi/anaconda3/envs/exp_trk_ass/lib/python3.9/site-packages/mlflow/store/tracking/file_store.py\", line 315, in search_experiments\n",
      "    exp = self._get_experiment(exp_id, view_type)\n",
      "  File \"/home/t.sukanmi/anaconda3/envs/exp_trk_ass/lib/python3.9/site-packages/mlflow/store/tracking/file_store.py\", line 408, in _get_experiment\n",
      "    meta = FileStore._read_yaml(experiment_dir, FileStore.META_DATA_FILE_NAME)\n",
      "  File \"/home/t.sukanmi/anaconda3/envs/exp_trk_ass/lib/python3.9/site-packages/mlflow/store/tracking/file_store.py\", line 1336, in _read_yaml\n",
      "    return _read_helper(root, file_name, attempts_remaining=retries)\n",
      "  File \"/home/t.sukanmi/anaconda3/envs/exp_trk_ass/lib/python3.9/site-packages/mlflow/store/tracking/file_store.py\", line 1329, in _read_helper\n",
      "    result = read_yaml(root, file_name)\n",
      "  File \"/home/t.sukanmi/anaconda3/envs/exp_trk_ass/lib/python3.9/site-packages/mlflow/utils/file_utils.py\", line 309, in read_yaml\n",
      "    raise MissingConfigException(f\"Yaml file '{file_path}' does not exist.\")\n",
      "mlflow.exceptions.MissingConfigException: Yaml file '/home/t.sukanmi/mlops_pratical/exp_tracking_ass/mlruns/1/meta.yaml' does not exist.\n"
     ]
    }
   ],
   "source": [
    "from mlflow.tracking import MlflowClient\n",
    "\n",
    "client = MlflowClient()\n",
    "experiment = client.get_experiment_by_name('Best performing optimized model')\n",
    "if experiment:\n",
    "    client.delete_experiment(experiment.experiment_id)\n"
   ]
  }
 ],
 "metadata": {
  "kernelspec": {
   "display_name": "exp_trk_ass",
   "language": "python",
   "name": "python3"
  },
  "language_info": {
   "codemirror_mode": {
    "name": "ipython",
    "version": 3
   },
   "file_extension": ".py",
   "mimetype": "text/x-python",
   "name": "python",
   "nbconvert_exporter": "python",
   "pygments_lexer": "ipython3",
   "version": "3.9.19"
  }
 },
 "nbformat": 4,
 "nbformat_minor": 2
}
